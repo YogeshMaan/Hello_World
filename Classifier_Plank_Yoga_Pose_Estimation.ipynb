{
  "nbformat": 4,
  "nbformat_minor": 0,
  "metadata": {
    "colab": {
      "name": "Classifier_Plank_Yoga Pose_Estimation.ipynb",
      "provenance": [],
      "collapsed_sections": [],
      "include_colab_link": true
    },
    "kernelspec": {
      "name": "python3",
      "display_name": "Python 3"
    },
    "language_info": {
      "name": "python"
    },
    "accelerator": "GPU"
  },
  "cells": [
    {
      "cell_type": "markdown",
      "metadata": {
        "id": "view-in-github",
        "colab_type": "text"
      },
      "source": [
        "<a href=\"https://colab.research.google.com/github/YogeshMaan/Hello_World/blob/master/Classifier_Plank_Yoga_Pose_Estimation.ipynb\" target=\"_parent\"><img src=\"https://colab.research.google.com/assets/colab-badge.svg\" alt=\"Open In Colab\"/></a>"
      ]
    },
    {
      "cell_type": "markdown",
      "metadata": {
        "id": "SbzLOYncHduG"
      },
      "source": [
        "## Get the required DATA "
      ]
    },
    {
      "cell_type": "code",
      "metadata": {
        "id": "BJl8E3NfIClQ",
        "colab": {
          "base_uri": "https://localhost:8080/"
        },
        "outputId": "2aa299a4-679d-40a2-be0e-030f8e79667a"
      },
      "source": [
        "! pip3 install mediapipe\n",
        "import cv2\n",
        "import mediapipe as mp\n",
        "import time\n",
        "from google.colab.patches import cv2_imshow\n",
        "import numpy as np\n",
        "import pandas as pd\n",
        "import os\n",
        "import math"
      ],
      "execution_count": 1,
      "outputs": [
        {
          "output_type": "stream",
          "name": "stdout",
          "text": [
            "Collecting mediapipe\n",
            "  Downloading mediapipe-0.8.7.3-cp37-cp37m-manylinux_2_17_x86_64.manylinux2014_x86_64.whl (30.4 MB)\n",
            "\u001b[K     |████████████████████████████████| 30.4 MB 77 kB/s \n",
            "\u001b[?25hRequirement already satisfied: numpy in /usr/local/lib/python3.7/dist-packages (from mediapipe) (1.19.5)\n",
            "Requirement already satisfied: six in /usr/local/lib/python3.7/dist-packages (from mediapipe) (1.15.0)\n",
            "Requirement already satisfied: opencv-contrib-python in /usr/local/lib/python3.7/dist-packages (from mediapipe) (4.1.2.30)\n",
            "Requirement already satisfied: absl-py in /usr/local/lib/python3.7/dist-packages (from mediapipe) (0.12.0)\n",
            "Requirement already satisfied: wheel in /usr/local/lib/python3.7/dist-packages (from mediapipe) (0.37.0)\n",
            "Requirement already satisfied: attrs>=19.1.0 in /usr/local/lib/python3.7/dist-packages (from mediapipe) (21.2.0)\n",
            "Requirement already satisfied: matplotlib in /usr/local/lib/python3.7/dist-packages (from mediapipe) (3.2.2)\n",
            "Requirement already satisfied: protobuf>=3.11.4 in /usr/local/lib/python3.7/dist-packages (from mediapipe) (3.17.3)\n",
            "Requirement already satisfied: cycler>=0.10 in /usr/local/lib/python3.7/dist-packages (from matplotlib->mediapipe) (0.10.0)\n",
            "Requirement already satisfied: kiwisolver>=1.0.1 in /usr/local/lib/python3.7/dist-packages (from matplotlib->mediapipe) (1.3.2)\n",
            "Requirement already satisfied: python-dateutil>=2.1 in /usr/local/lib/python3.7/dist-packages (from matplotlib->mediapipe) (2.8.2)\n",
            "Requirement already satisfied: pyparsing!=2.0.4,!=2.1.2,!=2.1.6,>=2.0.1 in /usr/local/lib/python3.7/dist-packages (from matplotlib->mediapipe) (2.4.7)\n",
            "Installing collected packages: mediapipe\n",
            "Successfully installed mediapipe-0.8.7.3\n"
          ]
        }
      ]
    },
    {
      "cell_type": "code",
      "metadata": {
        "id": "KYI-BxLPHa8T"
      },
      "source": [
        "def getDistance(p, q):\n",
        "  dist = ((((q[0] - p[0] )**2) + ((q[1]-p[1])**2) )**0.5)\n",
        "  return dist\n",
        "\n",
        "def getAngle(a, b, c):\n",
        "    ang = math.degrees(math.atan2(c[1]-b[1], c[0]-b[0]) - math.atan2(a[1]-b[1], a[0]-b[0]))\n",
        "    if ang < 0:\n",
        "      angle = ang + 360\n",
        "      if angle > 180:\n",
        "        angle = 360 - angle\n",
        "    else:\n",
        "      angle = ang\n",
        "      if angle > 180:\n",
        "        angle = 360 - angle\n",
        "    return angle\n",
        "\n",
        "\n",
        "def return_dict(img_path):\n",
        "  mpPose = mp.solutions.pose\n",
        "  mpDraw = mp.solutions.drawing_utils\n",
        "  pose = mpPose.Pose()\n",
        "  img = cv2.imread(img_path)\n",
        "  img = cv2.resize(img, (416, 416),interpolation=cv2.INTER_AREA)\n",
        "  # cv2_imshow(img)\n",
        "  results = pose.process(img)\n",
        "  landmarks_list = []\n",
        "\n",
        "  try:\n",
        "    for id, lm in enumerate(results.pose_landmarks.landmark):\n",
        "      # print(id)\n",
        "      h, w, c  = img.shape\n",
        "      point_cordinates = [int(lm.x*w), int(lm.y*h)]\n",
        "      landmarks_list.append(point_cordinates)\n",
        "\n",
        "    elbow_angle_right = getAngle(landmarks_list[16], landmarks_list[14], landmarks_list[12])\n",
        "    elbow_angle_left =  getAngle(landmarks_list[11], landmarks_list[13], landmarks_list[15])\n",
        "    shoulder_angle_right = getAngle(landmarks_list[14], landmarks_list[12], landmarks_list[24])\n",
        "    shoulder_angle_left = getAngle(landmarks_list[13], landmarks_list[11], landmarks_list[23])\n",
        "    hip_dist = getDistance(landmarks_list[23], landmarks_list[24])\n",
        "\n",
        "    Data_dict = {'L_elbow_angle': elbow_angle_left, 'R_elbow_angle': elbow_angle_right, 'L_shoulder_angle': shoulder_angle_left,\n",
        "                'R_shoulder_angle': shoulder_angle_right, 'hip_dist': hip_dist}\n",
        "\n",
        "    return  Data_dict\n",
        "  \n",
        "  except:\n",
        "    print('Landmark NONE for image :', img_path)\n",
        "    return \n",
        "def Classifier(data_dict):\n",
        "  if data_dict['L_elbow_angle']>150 and data_dict['L_shoulder_angle']>70 and data_dict['L_shoulder_angle']<105 and data_dict['hip_dist']<25:\n",
        "    return 1 \n",
        "  else:\n",
        "    return 0\n",
        "\n"
      ],
      "execution_count": 2,
      "outputs": []
    },
    {
      "cell_type": "code",
      "metadata": {
        "id": "OjJSSURtIZTw",
        "colab": {
          "base_uri": "https://localhost:8080/"
        },
        "outputId": "c06d589b-6d76-40ec-b418-d48136832487"
      },
      "source": [
        "# Source directory containing dataset\n",
        "directory = '/content/drive/MyDrive/Kaglorsys/plank'\n",
        "classifier_list = []\n",
        "# file_name ---- indicates folder name of each class\n",
        "for img_name in os.listdir(directory):\n",
        "  img_path = os.path.join(directory,img_name)\n",
        "  data_dict = return_dict(img_path)\n",
        "  if data_dict:\n",
        "    classifier_result = Classifier(data_dict)\n",
        "    classifier_list.append(classifier_result)\n",
        "  \n",
        "\n",
        "print(classifier_list)\n",
        "print(len(classifier_list))\n",
        "\n",
        "\n"
      ],
      "execution_count": 5,
      "outputs": [
        {
          "output_type": "stream",
          "name": "stdout",
          "text": [
            "Landmark NONE for image : /content/drive/MyDrive/Kaglorsys/plank/00000336.jpg\n",
            "Landmark NONE for image : /content/drive/MyDrive/Kaglorsys/plank/00000249.jpg\n",
            "[0, 1, 0, 0, 0, 1, 0, 0, 1, 0, 0, 0, 0, 0, 0, 0, 0, 0, 0, 1, 0, 0, 0, 0, 0, 0, 0, 0, 1, 1, 0, 1, 0, 0, 0, 0, 0, 1, 0, 0, 0, 0, 0, 0, 1, 0, 0, 0, 1, 1, 1, 0, 0, 0, 0, 0, 0, 0, 0, 0]\n",
            "60\n"
          ]
        }
      ]
    },
    {
      "cell_type": "code",
      "metadata": {
        "colab": {
          "base_uri": "https://localhost:8080/"
        },
        "id": "EyksBgdkJvSq",
        "outputId": "98cf8ef2-b146-4484-c4f5-1085162bef6b"
      },
      "source": [
        "from google.colab import drive\n",
        "drive.mount('/content/drive')"
      ],
      "execution_count": 4,
      "outputs": [
        {
          "output_type": "stream",
          "name": "stdout",
          "text": [
            "Mounted at /content/drive\n"
          ]
        }
      ]
    },
    {
      "cell_type": "code",
      "metadata": {
        "id": "1jx0w2ZxJv-x"
      },
      "source": [
        ""
      ],
      "execution_count": null,
      "outputs": []
    }
  ]
}